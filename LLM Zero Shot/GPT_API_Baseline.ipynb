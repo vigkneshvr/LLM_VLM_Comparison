{
 "cells": [
  {
   "cell_type": "code",
   "execution_count": 2,
   "metadata": {},
   "outputs": [],
   "source": [
    "from openai import OpenAI\n",
    "import os\n",
    "import json\n"
   ]
  },
  {
   "cell_type": "code",
   "execution_count": 3,
   "metadata": {},
   "outputs": [],
   "source": [
    "\n",
    "client = OpenAI(api_key=os.environ.get(\"OPENAI_API_KEY\"))\n",
    "\n",
    "def get_completion(prompt, model=\"gpt-3.5-turbo\"):\n",
    "    messages = [{\"role\": \"user\", \"content\": prompt}\n",
    "                ,{\"role\": \"system\", \"content\": \"You are an expert in circuits and building IoT kits.\"}]\n",
    "    response = client.chat.completions.create(\n",
    "        model=model,\n",
    "        messages=messages,\n",
    "        temperature=0\n",
    "    )\n",
    "    return response.choices[0].message.content"
   ]
  },
  {
   "cell_type": "code",
   "execution_count": null,
   "metadata": {},
   "outputs": [],
   "source": [
    "def prompt_response(design_choice: str, criterion: str):\n",
    "    prompt = f\"\"\"\n",
    "    What is the use of RC522 RFID Module in an IoT kit? \n",
    "    Write the description, applications and technical specifications\n",
    "    \n",
    "    \"\"\"\n",
    "\n",
    "\n",
    "    response = get_completion(prompt)\n",
    "\n",
    "    # print(f\"\\n Response Score: \\n\")\n",
    "    # print(response)\n",
    "    return response"
   ]
  },
  {
   "cell_type": "code",
   "execution_count": 4,
   "metadata": {},
   "outputs": [
    {
     "name": "stdout",
     "output_type": "stream",
     "text": [
      "1. Description:\n",
      "The RC522 RFID Module is a popular RFID reader module that operates at 13.56 MHz. It is commonly used in IoT kits for reading RFID tags and cards. The module communicates with a microcontroller or other devices using SPI interface, making it easy to integrate into various projects.\n",
      "\n",
      "2. Applications:\n",
      "- Access control systems: The RC522 RFID Module can be used to control access to buildings, rooms, or devices by reading RFID cards or tags.\n",
      "- Inventory management: It can be used to track and manage inventory by tagging items with RFID tags and scanning them with the module.\n",
      "- Smart payment systems: The module can be integrated into IoT kits for implementing contactless payment systems using RFID technology.\n",
      "- Attendance systems: It can be used in schools or offices to track attendance by scanning RFID cards or tags.\n",
      "\n",
      "3. Technical Specifications:\n",
      "- Operating frequency: 13.56 MHz\n",
      "- Communication interface: SPI\n",
      "- Operating voltage: 3.3V\n",
      "- Operating current: <13mA\n",
      "- Read distance: Up to 3cm\n",
      "- Supported RFID cards: MIFARE 1 S50, MIFARE 1 S70, MIFARE UltraLight, MIFARE Pro, MIFARE DESFire\n"
     ]
    }
   ],
   "source": [
    "prompt_1 = \"\"\"\n",
    "What is the use of RC522 RFID Module in an IoT kit? \n",
    "\n",
    "The output should have three sections:\n",
    "1. Description\n",
    "2. Applications\n",
    "3. Technical Specifications\n",
    "\"\"\"\n",
    "\n",
    "response_1 = get_completion(prompt_1)\n",
    "\n",
    "print(response_1)"
   ]
  },
  {
   "cell_type": "code",
   "execution_count": 5,
   "metadata": {},
   "outputs": [
    {
     "name": "stdout",
     "output_type": "stream",
     "text": [
      "1. Description:\n",
      "The Servo Motor SG90 is a small and lightweight motor that is commonly used in IoT kits for its precise control and ability to rotate to specific angles. It is a type of rotary actuator that allows for accurate control of angular position, making it ideal for applications that require precise movement.\n",
      "\n",
      "2. Applications:\n",
      "- Robotics: The SG90 servo motor is commonly used in robotics projects for controlling the movement of robotic arms, grippers, and other mechanical components.\n",
      "- Camera positioning: It can be used to control the movement of a camera for surveillance or tracking purposes in IoT projects.\n",
      "- Home automation: The servo motor can be used to control the movement of doors, windows, or other mechanical components in smart home applications.\n",
      "- Remote control vehicles: It can be used to control the steering mechanism in remote control cars, drones, or other vehicles in IoT projects.\n",
      "\n",
      "3. Technical Specifications:\n",
      "- Operating Voltage: 4.8 - 6V\n",
      "- Stall Torque: 1.8 kg/cm\n",
      "- Operating Speed: 0.1 sec/60°\n",
      "- Weight: 9g\n",
      "- Dimensions: 23 x 12.2 x 29mm\n",
      "- Connector Type: JR type\n",
      "- Control Interface: PWM (Pulse Width Modulation)\n",
      "- Rotation Range: 0-180°\n",
      "\n",
      "Overall, the Servo Motor SG90 is a versatile component in IoT kits, offering precise control and reliable performance for a variety of applications.\n"
     ]
    }
   ],
   "source": [
    "prompt_2 = \"\"\"\n",
    "What is the use of Servo Motor SG90 in an IoT kit?\n",
    "\n",
    "The output should have three sections:\n",
    "1. Description\n",
    "2. Applications\n",
    "3. Technical Specifications\n",
    "\"\"\"\n",
    "\n",
    "response_2 = get_completion(prompt_2)\n",
    "\n",
    "print(response_2)"
   ]
  },
  {
   "cell_type": "code",
   "execution_count": 6,
   "metadata": {},
   "outputs": [
    {
     "name": "stdout",
     "output_type": "stream",
     "text": [
      "1. Description:\n",
      "A stepper motor is a type of brushless DC electric motor that divides a full rotation into a number of equal steps. It is controlled by sending a series of electrical pulses to the motor, which in turn moves in precise increments. Stepper motors are commonly used in applications that require precise positioning and control, making them ideal for use in IoT kits where accurate movement is necessary.\n",
      "\n",
      "2. Applications:\n",
      "- Robotics: Stepper motors are commonly used in robotic applications for precise control of movement, such as in robotic arms or automated vehicles.\n",
      "- 3D printers: Stepper motors are used in 3D printers to control the movement of the print head and build platform, allowing for precise and accurate printing.\n",
      "- CNC machines: Stepper motors are used in computer numerical control (CNC) machines for controlling the movement of cutting tools and other components with high precision.\n",
      "- Camera sliders: Stepper motors are used in camera sliders to provide smooth and controlled movement for capturing dynamic shots.\n",
      "\n",
      "3. Technical Specifications:\n",
      "- Step angle: Stepper motors are available in various step angles, such as 1.8 degrees per step or 0.9 degrees per step, which determines the resolution and accuracy of movement.\n",
      "- Holding torque: This is the amount of torque that the motor can generate when stationary, which is important for maintaining position without slipping.\n",
      "- Operating voltage: Stepper motors operate at a specific voltage range, typically ranging from 5V to 24V, depending on the model.\n",
      "- Control interface: Stepper motors can be controlled using various methods, such as pulse and direction signals, or using a microcontroller with a stepper motor driver.\n",
      "- Shaft size: The shaft size of a stepper motor determines the compatibility with different types of mechanical components, such as gears or pulleys for transmitting motion.\n"
     ]
    }
   ],
   "source": [
    "prompt_3 = \"\"\"\n",
    "What is the use of Stepper Motor in an IoT kit?\n",
    "\n",
    "The output should have three sections:\n",
    "1. Description\n",
    "2. Applications\n",
    "3. Technical Specifications\n",
    "\"\"\"\n",
    "\n",
    "response_3 = get_completion(prompt_3)\n",
    "\n",
    "print(response_3)"
   ]
  },
  {
   "cell_type": "code",
   "execution_count": 7,
   "metadata": {},
   "outputs": [
    {
     "name": "stdout",
     "output_type": "stream",
     "text": [
      "1. Description:\n",
      "The Water Level Detection Sensor Module is a crucial component in an IoT kit that is used to detect the level of water in a tank or container. It typically consists of a sensor probe that is placed inside the tank and connected to the module. The sensor probe measures the water level and sends the data to the module, which can then be transmitted to a microcontroller or IoT device for monitoring and control.\n",
      "\n",
      "2. Applications:\n",
      "- Water tank monitoring: The sensor module can be used to monitor the water level in tanks used for storage or distribution of water. This is particularly useful in agricultural settings, industrial applications, and smart home systems.\n",
      "- Flood detection: The sensor module can also be used to detect rising water levels in areas prone to flooding, providing early warning alerts to prevent damage.\n",
      "- Irrigation systems: The sensor module can be integrated into irrigation systems to ensure that water levels are maintained at optimal levels for crops.\n",
      "\n",
      "3. Technical Specifications:\n",
      "- Operating voltage: Typically operates at 5V DC\n",
      "- Detection range: Can detect water levels within a specified range, such as 0-100% full\n",
      "- Output signal: Analog or digital signal output, depending on the specific module\n",
      "- Interface: Can be connected to a microcontroller or IoT device via GPIO pins or serial communication\n",
      "- Accuracy: High accuracy in detecting water levels, usually within a few millimeters\n",
      "- Material: The sensor probe is usually made of corrosion-resistant materials to withstand exposure to water\n",
      "- Size: Compact and easy to install in various tank sizes and shapes\n",
      "\n",
      "Overall, the Water Level Detection Sensor Module is a versatile component in an IoT kit that enables efficient monitoring and control of water levels in various applications.\n"
     ]
    }
   ],
   "source": [
    "prompt_4 = \"\"\"\n",
    "What is the use of Water Level Detection Sensor Module in an IoT kit?\n",
    "\n",
    "The output should have three sections:\n",
    "1. Description\n",
    "2. Applications\n",
    "3. Technical Specifications\n",
    "\"\"\"\n",
    "\n",
    "response_4 = get_completion(prompt_4)\n",
    "\n",
    "print(response_4)"
   ]
  },
  {
   "cell_type": "code",
   "execution_count": null,
   "metadata": {},
   "outputs": [],
   "source": []
  }
 ],
 "metadata": {
  "kernelspec": {
   "display_name": "Python 3",
   "language": "python",
   "name": "python3"
  },
  "language_info": {
   "codemirror_mode": {
    "name": "ipython",
    "version": 3
   },
   "file_extension": ".py",
   "mimetype": "text/x-python",
   "name": "python",
   "nbconvert_exporter": "python",
   "pygments_lexer": "ipython3",
   "version": "3.9.12"
  }
 },
 "nbformat": 4,
 "nbformat_minor": 2
}
