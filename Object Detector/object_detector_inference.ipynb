{
 "cells": [
  {
   "cell_type": "code",
   "execution_count": 11,
   "metadata": {},
   "outputs": [],
   "source": [
    "import cv2\n",
    "from inference_sdk import InferenceHTTPClient"
   ]
  },
  {
   "cell_type": "code",
   "execution_count": 12,
   "metadata": {},
   "outputs": [],
   "source": [
    "#calculate bounding box coordinate\n",
    "def bounding_box_calc(predictions):\n",
    "    x= predictions[\"x\"]\n",
    "    y= predictions[\"y\"]\n",
    "    width= predictions[\"width\"]\n",
    "    height= predictions[\"height\"]\n",
    "\n",
    "    x1 = int(x - (width/2))\n",
    "    y1 = int(y - (height/2))\n",
    "    x2 = int(x + (width/2))\n",
    "    y2 = int(y + (height/2))\n",
    "\n",
    "    box = (x1, x2, y1, y2)\n",
    "\n",
    "    return box"
   ]
  },
  {
   "cell_type": "code",
   "execution_count": 18,
   "metadata": {},
   "outputs": [],
   "source": [
    "image_path= \"trained_model\\\\test\\\\images\\\\HiLetgo_GY-521_module_jpg.rf.f2e214072180ba14eb8c73a24baff02d.jpg\"\n",
    "\n",
    "CLIENT = InferenceHTTPClient(\n",
    "    api_url=\"https://detect.roboflow.com\",\n",
    "    api_key=\"sp4oI1Zf7i23t3HlL7eN\"\n",
    ")\n",
    "\n",
    "results= CLIENT.infer(\n",
    "    image_path, \n",
    "    model_id=\"object-detection-using-vlm-llm/13\"\n",
    ")\n"
   ]
  },
  {
   "cell_type": "code",
   "execution_count": 19,
   "metadata": {},
   "outputs": [
    {
     "name": "stdout",
     "output_type": "stream",
     "text": [
      "{'time': 0.10576460600003657, 'image': {'width': 1024, 'height': 1024}, 'predictions': [{'x': 594.0, 'y': 720.0, 'width': 550.0, 'height': 348.0, 'confidence': 0.9825658798217773, 'class': 'hiletgo gy-521 module', 'class_id': 25, 'detection_id': 'b2905fc5-00ce-422d-8d74-f690adca0c61'}]}\n"
     ]
    }
   ],
   "source": [
    "print(results)"
   ]
  },
  {
   "cell_type": "code",
   "execution_count": 20,
   "metadata": {},
   "outputs": [
    {
     "name": "stdout",
     "output_type": "stream",
     "text": [
      "predicted class :  hiletgo gy-521 module\n"
     ]
    }
   ],
   "source": [
    "\"\"\"\n",
    "Predictions are stored in a dictionary with keys as follows\n",
    "{\n",
    "x : , y : , width : , height : , confidence: , class : , class_id : , detection_id : , \n",
    "}\n",
    "\"\"\"\n",
    "predictions= results[\"predictions\"][0]\n",
    "\n",
    "print(\"predicted class : \", predictions[\"class\"])"
   ]
  },
  {
   "cell_type": "code",
   "execution_count": 21,
   "metadata": {},
   "outputs": [
    {
     "name": "stdout",
     "output_type": "stream",
     "text": [
      "(319, 869, 546, 894)\n"
     ]
    }
   ],
   "source": [
    "#get bounding box coordinate\n",
    "box_coordinates= bounding_box_calc(predictions)\n",
    "print(box_coordinates)"
   ]
  },
  {
   "cell_type": "code",
   "execution_count": 22,
   "metadata": {},
   "outputs": [],
   "source": [
    "#draw bounding box\n",
    "image= cv2.imread(image_path,cv2.IMREAD_COLOR)\n",
    "color = (0, 255, 0)\n",
    "thickness = 2\n",
    "cv2.rectangle(image, (box_coordinates[0], box_coordinates[2]), (box_coordinates[1], box_coordinates[3]), color, thickness)\n",
    "cv2.imshow('Image with Bounding Box', image)\n",
    "cv2.waitKey(0)\n",
    "cv2.destroyAllWindows()"
   ]
  }
 ],
 "metadata": {
  "kernelspec": {
   "display_name": "object_detector",
   "language": "python",
   "name": "python3"
  },
  "language_info": {
   "codemirror_mode": {
    "name": "ipython",
    "version": 3
   },
   "file_extension": ".py",
   "mimetype": "text/x-python",
   "name": "python",
   "nbconvert_exporter": "python",
   "pygments_lexer": "ipython3",
   "version": "3.9.19"
  }
 },
 "nbformat": 4,
 "nbformat_minor": 2
}
